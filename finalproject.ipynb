{
 "cells": [
  {
   "cell_type": "code",
   "execution_count": 1,
   "metadata": {},
   "outputs": [],
   "source": [
    "import numpy as np\n",
    "import pandas as pd\n",
    "import matplotlib.pyplot as plt"
   ]
  },
  {
   "cell_type": "code",
   "execution_count": 2,
   "metadata": {},
   "outputs": [
    {
     "data": {
      "text/plain": [
       "'C:\\\\Users\\\\saivi'"
      ]
     },
     "execution_count": 2,
     "metadata": {},
     "output_type": "execute_result"
    }
   ],
   "source": [
    "pwd"
   ]
  },
  {
   "cell_type": "code",
   "execution_count": 3,
   "metadata": {},
   "outputs": [],
   "source": [
    "dataset =pd.read_csv('finalproject.csv')"
   ]
  },
  {
   "cell_type": "code",
   "execution_count": 4,
   "metadata": {},
   "outputs": [
    {
     "data": {
      "text/html": [
       "<div>\n",
       "<style scoped>\n",
       "    .dataframe tbody tr th:only-of-type {\n",
       "        vertical-align: middle;\n",
       "    }\n",
       "\n",
       "    .dataframe tbody tr th {\n",
       "        vertical-align: top;\n",
       "    }\n",
       "\n",
       "    .dataframe thead th {\n",
       "        text-align: right;\n",
       "    }\n",
       "</style>\n",
       "<table border=\"1\" class=\"dataframe\">\n",
       "  <thead>\n",
       "    <tr style=\"text-align: right;\">\n",
       "      <th></th>\n",
       "      <th>AGE</th>\n",
       "      <th>HEART BEAT</th>\n",
       "      <th>SYSTOLIC</th>\n",
       "      <th>DIASTOLIC</th>\n",
       "      <th>SUGAR</th>\n",
       "      <th>ALERT</th>\n",
       "    </tr>\n",
       "  </thead>\n",
       "  <tbody>\n",
       "    <tr>\n",
       "      <th>0</th>\n",
       "      <td>18</td>\n",
       "      <td>60</td>\n",
       "      <td>90</td>\n",
       "      <td>50</td>\n",
       "      <td>90</td>\n",
       "      <td>0</td>\n",
       "    </tr>\n",
       "    <tr>\n",
       "      <th>1</th>\n",
       "      <td>18</td>\n",
       "      <td>60</td>\n",
       "      <td>91</td>\n",
       "      <td>51</td>\n",
       "      <td>91</td>\n",
       "      <td>0</td>\n",
       "    </tr>\n",
       "    <tr>\n",
       "      <th>2</th>\n",
       "      <td>18</td>\n",
       "      <td>60</td>\n",
       "      <td>92</td>\n",
       "      <td>52</td>\n",
       "      <td>92</td>\n",
       "      <td>0</td>\n",
       "    </tr>\n",
       "    <tr>\n",
       "      <th>3</th>\n",
       "      <td>18</td>\n",
       "      <td>60</td>\n",
       "      <td>93</td>\n",
       "      <td>53</td>\n",
       "      <td>93</td>\n",
       "      <td>0</td>\n",
       "    </tr>\n",
       "    <tr>\n",
       "      <th>4</th>\n",
       "      <td>18</td>\n",
       "      <td>60</td>\n",
       "      <td>94</td>\n",
       "      <td>54</td>\n",
       "      <td>94</td>\n",
       "      <td>0</td>\n",
       "    </tr>\n",
       "  </tbody>\n",
       "</table>\n",
       "</div>"
      ],
      "text/plain": [
       "   AGE  HEART BEAT  SYSTOLIC  DIASTOLIC  SUGAR  ALERT\n",
       "0   18          60        90         50     90      0\n",
       "1   18          60        91         51     91      0\n",
       "2   18          60        92         52     92      0\n",
       "3   18          60        93         53     93      0\n",
       "4   18          60        94         54     94      0"
      ]
     },
     "execution_count": 4,
     "metadata": {},
     "output_type": "execute_result"
    }
   ],
   "source": [
    "dataset.head()"
   ]
  },
  {
   "cell_type": "code",
   "execution_count": 18,
   "metadata": {},
   "outputs": [],
   "source": [
    "x= dataset.iloc[:99149,:5].values"
   ]
  },
  {
   "cell_type": "code",
   "execution_count": 19,
   "metadata": {},
   "outputs": [
    {
     "data": {
      "text/plain": [
       "numpy.ndarray"
      ]
     },
     "execution_count": 19,
     "metadata": {},
     "output_type": "execute_result"
    }
   ],
   "source": [
    "type(x)"
   ]
  },
  {
   "cell_type": "code",
   "execution_count": 20,
   "metadata": {},
   "outputs": [
    {
     "data": {
      "text/plain": [
       "array([[ 18,  60,  90,  50,  90],\n",
       "       [ 18,  60,  91,  51,  91],\n",
       "       [ 18,  60,  92,  52,  92],\n",
       "       ...,\n",
       "       [ 40,  94, 178,  94, 204],\n",
       "       [ 40,  94, 179,  95, 205],\n",
       "       [ 40,  94, 180,  96, 206]], dtype=int64)"
      ]
     },
     "execution_count": 20,
     "metadata": {},
     "output_type": "execute_result"
    }
   ],
   "source": [
    "x"
   ]
  },
  {
   "cell_type": "code",
   "execution_count": 21,
   "metadata": {},
   "outputs": [],
   "source": [
    "y= dataset.iloc[:99149,-1:].values"
   ]
  },
  {
   "cell_type": "code",
   "execution_count": 22,
   "metadata": {},
   "outputs": [
    {
     "data": {
      "text/plain": [
       "array([[0],\n",
       "       [0],\n",
       "       [0],\n",
       "       ...,\n",
       "       [1],\n",
       "       [1],\n",
       "       [1]], dtype=int64)"
      ]
     },
     "execution_count": 22,
     "metadata": {},
     "output_type": "execute_result"
    }
   ],
   "source": [
    "y"
   ]
  },
  {
   "cell_type": "code",
   "execution_count": 23,
   "metadata": {},
   "outputs": [],
   "source": [
    "from sklearn.model_selection import train_test_split           \n",
    "x_train,x_test,y_train,y_test=train_test_split(x,y,test_size=0.2,random_state=0)"
   ]
  },
  {
   "cell_type": "code",
   "execution_count": 24,
   "metadata": {},
   "outputs": [],
   "source": [
    "import keras \n",
    "from keras.models import Sequential \n",
    "from keras.layers import Dense "
   ]
  },
  {
   "cell_type": "code",
   "execution_count": 25,
   "metadata": {},
   "outputs": [],
   "source": [
    "model=Sequential()"
   ]
  },
  {
   "cell_type": "code",
   "execution_count": 26,
   "metadata": {},
   "outputs": [
    {
     "name": "stderr",
     "output_type": "stream",
     "text": [
      "C:\\Users\\saivi\\Anaconda3\\lib\\site-packages\\ipykernel_launcher.py:1: UserWarning: Update your `Dense` call to the Keras 2 API: `Dense(input_dim=5, activation=\"relu\", units=3, kernel_initializer=\"random_uniform\")`\n",
      "  \"\"\"Entry point for launching an IPython kernel.\n"
     ]
    }
   ],
   "source": [
    "model.add(Dense(input_dim=5,init=\"random_uniform\",activation=\"relu\",output_dim=3))"
   ]
  },
  {
   "cell_type": "code",
   "execution_count": 27,
   "metadata": {},
   "outputs": [
    {
     "name": "stderr",
     "output_type": "stream",
     "text": [
      "C:\\Users\\saivi\\Anaconda3\\lib\\site-packages\\ipykernel_launcher.py:1: UserWarning: Update your `Dense` call to the Keras 2 API: `Dense(activation=\"relu\", units=3, kernel_initializer=\"random_uniform\")`\n",
      "  \"\"\"Entry point for launching an IPython kernel.\n"
     ]
    }
   ],
   "source": [
    "model.add(Dense(output_dim=3,init=\"random_uniform\",activation=\"relu\"))"
   ]
  },
  {
   "cell_type": "code",
   "execution_count": 28,
   "metadata": {},
   "outputs": [
    {
     "name": "stderr",
     "output_type": "stream",
     "text": [
      "C:\\Users\\saivi\\Anaconda3\\lib\\site-packages\\ipykernel_launcher.py:1: UserWarning: Update your `Dense` call to the Keras 2 API: `Dense(activation=\"sigmoid\", units=1, kernel_initializer=\"random_uniform\")`\n",
      "  \"\"\"Entry point for launching an IPython kernel.\n"
     ]
    }
   ],
   "source": [
    "model.add(Dense(output_dim=1,init=\"random_uniform\",activation=\"sigmoid\"))"
   ]
  },
  {
   "cell_type": "code",
   "execution_count": 29,
   "metadata": {},
   "outputs": [],
   "source": [
    "model.compile(optimizer='adam',loss='binary_crossentropy',metrics=['accuracy'])\n"
   ]
  },
  {
   "cell_type": "code",
   "execution_count": 30,
   "metadata": {},
   "outputs": [
    {
     "name": "stdout",
     "output_type": "stream",
     "text": [
      "Epoch 1/100\n",
      "79318/79318 [==============================] - 2s 31us/step - loss: 0.4492 - acc: 0.8052\n",
      "Epoch 2/100\n",
      "79318/79318 [==============================] - 2s 20us/step - loss: 0.2752 - acc: 0.9188\n",
      "Epoch 3/100\n",
      "79318/79318 [==============================] - 1s 19us/step - loss: 0.2251 - acc: 0.9249\n",
      "Epoch 4/100\n",
      "79318/79318 [==============================] - 2s 21us/step - loss: 0.1943 - acc: 0.9315\n",
      "Epoch 5/100\n",
      "79318/79318 [==============================] - 2s 25us/step - loss: 0.1721 - acc: 0.9365\n",
      "Epoch 6/100\n",
      "79318/79318 [==============================] - 1s 17us/step - loss: 0.1543 - acc: 0.9416\n",
      "Epoch 7/100\n",
      "79318/79318 [==============================] - 1s 17us/step - loss: 0.1391 - acc: 0.9474\n",
      "Epoch 8/100\n",
      "79318/79318 [==============================] - 2s 19us/step - loss: 0.1257 - acc: 0.9526\n",
      "Epoch 9/100\n",
      "79318/79318 [==============================] - 1s 19us/step - loss: 0.1136 - acc: 0.9580\n",
      "Epoch 10/100\n",
      "79318/79318 [==============================] - 2s 21us/step - loss: 0.1016 - acc: 0.9632\n",
      "Epoch 11/100\n",
      "79318/79318 [==============================] - 1s 18us/step - loss: 0.0910 - acc: 0.9683\n",
      "Epoch 12/100\n",
      "79318/79318 [==============================] - 2s 26us/step - loss: 0.0810 - acc: 0.9732\n",
      "Epoch 13/100\n",
      "79318/79318 [==============================] - 2s 30us/step - loss: 0.0718 - acc: 0.9774\n",
      "Epoch 14/100\n",
      "79318/79318 [==============================] - 2s 24us/step - loss: 0.0638 - acc: 0.9811\n",
      "Epoch 15/100\n",
      "79318/79318 [==============================] - 2s 26us/step - loss: 0.0569 - acc: 0.9844\n",
      "Epoch 16/100\n",
      "79318/79318 [==============================] - 2s 26us/step - loss: 0.0502 - acc: 0.9875\n",
      "Epoch 17/100\n",
      "79318/79318 [==============================] - 2s 26us/step - loss: 0.0446 - acc: 0.9900\n",
      "Epoch 18/100\n",
      "79318/79318 [==============================] - 3s 35us/step - loss: 0.0400 - acc: 0.9916\n",
      "Epoch 19/100\n",
      "79318/79318 [==============================] - 2s 24us/step - loss: 0.0357 - acc: 0.9934\n",
      "Epoch 20/100\n",
      "79318/79318 [==============================] - 2s 23us/step - loss: 0.0318 - acc: 0.9951\n",
      "Epoch 21/100\n",
      "79318/79318 [==============================] - 2s 22us/step - loss: 0.0288 - acc: 0.9960\n",
      "Epoch 22/100\n",
      "79318/79318 [==============================] - 2s 24us/step - loss: 0.0263 - acc: 0.9962\n",
      "Epoch 23/100\n",
      "79318/79318 [==============================] - 2s 29us/step - loss: 0.0239 - acc: 0.9971\n",
      "Epoch 24/100\n",
      "79318/79318 [==============================] - 2s 24us/step - loss: 0.0225 - acc: 0.9969\n",
      "Epoch 25/100\n",
      "79318/79318 [==============================] - 2s 30us/step - loss: 0.0200 - acc: 0.9980\n",
      "Epoch 26/100\n",
      "79318/79318 [==============================] - 2s 28us/step - loss: 0.0187 - acc: 0.9982\n",
      "Epoch 27/100\n",
      "79318/79318 [==============================] - 2s 22us/step - loss: 0.0169 - acc: 0.9986\n",
      "Epoch 28/100\n",
      "79318/79318 [==============================] - 2s 21us/step - loss: 0.0157 - acc: 0.9986\n",
      "Epoch 29/100\n",
      "79318/79318 [==============================] - 2s 21us/step - loss: 0.0144 - acc: 0.9988\n",
      "Epoch 30/100\n",
      "79318/79318 [==============================] - 2s 22us/step - loss: 0.0131 - acc: 0.9993\n",
      "Epoch 31/100\n",
      "79318/79318 [==============================] - 2s 22us/step - loss: 0.0122 - acc: 0.9993\n",
      "Epoch 32/100\n",
      "79318/79318 [==============================] - 2s 21us/step - loss: 0.0114 - acc: 0.9993\n",
      "Epoch 33/100\n",
      "79318/79318 [==============================] - 2s 22us/step - loss: 0.0103 - acc: 0.9995\n",
      "Epoch 34/100\n",
      "79318/79318 [==============================] - 2s 31us/step - loss: 0.0096 - acc: 0.9994\n",
      "Epoch 35/100\n",
      "79318/79318 [==============================] - 2s 24us/step - loss: 0.0091 - acc: 0.9995\n",
      "Epoch 36/100\n",
      "79318/79318 [==============================] - 2s 21us/step - loss: 0.0084 - acc: 0.9995\n",
      "Epoch 37/100\n",
      "79318/79318 [==============================] - 2s 22us/step - loss: 0.0076 - acc: 0.9997\n",
      "Epoch 38/100\n",
      "79318/79318 [==============================] - 2s 23us/step - loss: 0.0071 - acc: 0.9996\n",
      "Epoch 39/100\n",
      "79318/79318 [==============================] - 2s 21us/step - loss: 0.0061 - acc: 0.9998\n",
      "Epoch 40/100\n",
      "79318/79318 [==============================] - 2s 22us/step - loss: 0.0059 - acc: 0.9999\n",
      "Epoch 41/100\n",
      "79318/79318 [==============================] - 2s 22us/step - loss: 0.0059 - acc: 0.9996\n",
      "Epoch 42/100\n",
      "79318/79318 [==============================] - 2s 21us/step - loss: 0.0055 - acc: 0.9997\n",
      "Epoch 43/100\n",
      "79318/79318 [==============================] - 3s 32us/step - loss: 0.0047 - acc: 0.9999\n",
      "Epoch 44/100\n",
      "79318/79318 [==============================] - 2s 24us/step - loss: 0.0044 - acc: 0.9998\n",
      "Epoch 45/100\n",
      "79318/79318 [==============================] - 2s 22us/step - loss: 0.0041 - acc: 0.9999\n",
      "Epoch 46/100\n",
      "79318/79318 [==============================] - 2s 22us/step - loss: 0.0042 - acc: 0.9997\n",
      "Epoch 47/100\n",
      "79318/79318 [==============================] - 2s 21us/step - loss: 0.0033 - acc: 0.9999\n",
      "Epoch 48/100\n",
      "79318/79318 [==============================] - 2s 21us/step - loss: 0.0031 - acc: 0.9999\n",
      "Epoch 49/100\n",
      "79318/79318 [==============================] - 2s 21us/step - loss: 0.0037 - acc: 0.9996\n",
      "Epoch 50/100\n",
      "79318/79318 [==============================] - 2s 24us/step - loss: 0.0025 - acc: 1.0000\n",
      "Epoch 51/100\n",
      "79318/79318 [==============================] - 2s 26us/step - loss: 0.0022 - acc: 1.0000\n",
      "Epoch 52/100\n",
      "79318/79318 [==============================] - 2s 28us/step - loss: 0.0025 - acc: 0.9998\n",
      "Epoch 53/100\n",
      "79318/79318 [==============================] - 2s 22us/step - loss: 0.0022 - acc: 1.0000\n",
      "Epoch 54/100\n",
      "79318/79318 [==============================] - 2s 21us/step - loss: 0.0028 - acc: 0.9995\n",
      "Epoch 55/100\n",
      "79318/79318 [==============================] - 2s 21us/step - loss: 0.0017 - acc: 1.0000\n",
      "Epoch 56/100\n",
      "79318/79318 [==============================] - 2s 21us/step - loss: 0.0020 - acc: 0.9999\n",
      "Epoch 57/100\n",
      "79318/79318 [==============================] - 2s 21us/step - loss: 0.0015 - acc: 1.0000:\n",
      "Epoch 58/100\n",
      "79318/79318 [==============================] - 2s 22us/step - loss: 0.0024 - acc: 0.9996\n",
      "Epoch 59/100\n",
      "79318/79318 [==============================] - 2s 22us/step - loss: 0.0017 - acc: 0.9998\n",
      "Epoch 60/100\n",
      "79318/79318 [==============================] - 2s 28us/step - loss: 0.0011 - acc: 1.0000\n",
      "Epoch 61/100\n",
      "79318/79318 [==============================] - 2s 27us/step - loss: 0.0011 - acc: 1.0000\n",
      "Epoch 62/100\n",
      "79318/79318 [==============================] - 2s 23us/step - loss: 0.0016 - acc: 0.9999\n",
      "Epoch 63/100\n",
      "79318/79318 [==============================] - 2s 25us/step - loss: 0.0015 - acc: 0.9998\n",
      "Epoch 64/100\n",
      "79318/79318 [==============================] - 2s 23us/step - loss: 0.0012 - acc: 0.9999\n",
      "Epoch 65/100\n",
      "79318/79318 [==============================] - 2s 22us/step - loss: 0.0020 - acc: 0.9996\n",
      "Epoch 66/100\n",
      "79318/79318 [==============================] - 2s 23us/step - loss: 9.5127e-04 - acc: 1.0000\n",
      "Epoch 67/100\n",
      "79318/79318 [==============================] - 2s 24us/step - loss: 8.9485e-04 - acc: 1.0000\n",
      "Epoch 68/100\n",
      "79318/79318 [==============================] - 2s 30us/step - loss: 8.9050e-04 - acc: 1.0000\n",
      "Epoch 69/100\n",
      "79318/79318 [==============================] - 2s 31us/step - loss: 0.0024 - acc: 0.9992\n",
      "Epoch 70/100\n",
      "79318/79318 [==============================] - 2s 24us/step - loss: 7.1226e-04 - acc: 1.0000\n",
      "Epoch 71/100\n",
      "79318/79318 [==============================] - 2s 22us/step - loss: 8.5935e-04 - acc: 1.0000\n",
      "Epoch 72/100\n",
      "79318/79318 [==============================] - 2s 22us/step - loss: 7.6826e-04 - acc: 1.0000\n",
      "Epoch 73/100\n",
      "79318/79318 [==============================] - 2s 22us/step - loss: 0.0067 - acc: 0.9985\n",
      "Epoch 74/100\n",
      "79318/79318 [==============================] - 2s 23us/step - loss: 6.0475e-04 - acc: 1.0000\n",
      "Epoch 75/100\n",
      "79318/79318 [==============================] - 2s 22us/step - loss: 6.0107e-04 - acc: 1.0000\n",
      "Epoch 76/100\n",
      "79318/79318 [==============================] - 2s 22us/step - loss: 5.9871e-04 - acc: 1.0000\n",
      "Epoch 77/100\n",
      "79318/79318 [==============================] - 3s 35us/step - loss: 6.1968e-04 - acc: 1.0000\n",
      "Epoch 78/100\n",
      "79318/79318 [==============================] - 2s 27us/step - loss: 7.1642e-04 - acc: 1.0000\n",
      "Epoch 79/100\n",
      "79318/79318 [==============================] - 2s 24us/step - loss: 8.2107e-04 - acc: 1.0000\n",
      "Epoch 80/100\n"
     ]
    },
    {
     "name": "stdout",
     "output_type": "stream",
     "text": [
      "79318/79318 [==============================] - 2s 24us/step - loss: 0.0016 - acc: 0.9996\n",
      "Epoch 81/100\n",
      "79318/79318 [==============================] - 2s 26us/step - loss: 5.3632e-04 - acc: 1.0000\n",
      "Epoch 82/100\n",
      "79318/79318 [==============================] - 2s 24us/step - loss: 0.0016 - acc: 0.9996\n",
      "Epoch 83/100\n",
      "79318/79318 [==============================] - 2s 23us/step - loss: 4.8885e-04 - acc: 1.0000\n",
      "Epoch 84/100\n",
      "79318/79318 [==============================] - 2s 26us/step - loss: 7.0940e-04 - acc: 1.0000\n",
      "Epoch 85/100\n",
      "79318/79318 [==============================] - 3s 37us/step - loss: 5.6311e-04 - acc: 1.0000: 0s - loss: 6.05\n",
      "Epoch 86/100\n",
      "79318/79318 [==============================] - 3s 39us/step - loss: 4.8275e-04 - acc: 1.0000\n",
      "Epoch 87/100\n",
      "79318/79318 [==============================] - 3s 35us/step - loss: 7.2465e-04 - acc: 1.0000\n",
      "Epoch 88/100\n",
      "79318/79318 [==============================] - 3s 32us/step - loss: 0.0021 - acc: 0.9994\n",
      "Epoch 89/100\n",
      "79318/79318 [==============================] - 2s 22us/step - loss: 3.9926e-04 - acc: 1.0000\n",
      "Epoch 90/100\n",
      "79318/79318 [==============================] - 2s 23us/step - loss: 3.9863e-04 - acc: 1.0000\n",
      "Epoch 91/100\n",
      "79318/79318 [==============================] - 2s 25us/step - loss: 4.2946e-04 - acc: 1.0000\n",
      "Epoch 92/100\n",
      "79318/79318 [==============================] - 2s 29us/step - loss: 0.0060 - acc: 0.9987\n",
      "Epoch 93/100\n",
      "79318/79318 [==============================] - 2s 22us/step - loss: 3.8113e-04 - acc: 1.0000\n",
      "Epoch 94/100\n",
      "79318/79318 [==============================] - 2s 22us/step - loss: 3.5519e-04 - acc: 1.0000\n",
      "Epoch 95/100\n",
      "79318/79318 [==============================] - 2s 22us/step - loss: 3.3632e-04 - acc: 1.0000\n",
      "Epoch 96/100\n",
      "79318/79318 [==============================] - 2s 22us/step - loss: 3.4433e-04 - acc: 1.0000\n",
      "Epoch 97/100\n",
      "79318/79318 [==============================] - 2s 21us/step - loss: 3.9105e-04 - acc: 1.0000\n",
      "Epoch 98/100\n",
      "79318/79318 [==============================] - 2s 21us/step - loss: 0.0021 - acc: 0.9995\n",
      "Epoch 99/100\n",
      "79318/79318 [==============================] - 2s 21us/step - loss: 3.1083e-04 - acc: 1.0000\n",
      "Epoch 100/100\n",
      "79318/79318 [==============================] - 3s 33us/step - loss: 3.3190e-04 - acc: 1.0000\n"
     ]
    },
    {
     "data": {
      "text/plain": [
       "<keras.callbacks.History at 0x1b52c3b99b0>"
      ]
     },
     "execution_count": 30,
     "metadata": {},
     "output_type": "execute_result"
    }
   ],
   "source": [
    "model.fit(x_train,y_train,epochs=100,batch_size=100)"
   ]
  },
  {
   "cell_type": "code",
   "execution_count": 31,
   "metadata": {},
   "outputs": [],
   "source": [
    "model.save(\"finalprojecttest.h5\")"
   ]
  },
  {
   "cell_type": "code",
   "execution_count": 32,
   "metadata": {},
   "outputs": [
    {
     "data": {
      "text/plain": [
       "(99148, 6)"
      ]
     },
     "execution_count": 32,
     "metadata": {},
     "output_type": "execute_result"
    }
   ],
   "source": [
    "dataset.shape"
   ]
  },
  {
   "cell_type": "code",
   "execution_count": 33,
   "metadata": {},
   "outputs": [],
   "source": [
    "y_pred=model.predict(x_test)"
   ]
  },
  {
   "cell_type": "code",
   "execution_count": 34,
   "metadata": {},
   "outputs": [
    {
     "data": {
      "text/plain": [
       "19830"
      ]
     },
     "execution_count": 34,
     "metadata": {},
     "output_type": "execute_result"
    }
   ],
   "source": [
    "l = len(y_pred)\n",
    "l"
   ]
  },
  {
   "cell_type": "code",
   "execution_count": 52,
   "metadata": {},
   "outputs": [],
   "source": [
    "for i in range(l):\n",
    "    if(y_pred[i] > 0.5):\n",
    "        y_pred[i] =int(1)\n",
    "    else:\n",
    "        y_pred[i]=int(0)\n"
   ]
  },
  {
   "cell_type": "code",
   "execution_count": 53,
   "metadata": {},
   "outputs": [],
   "source": [
    "y_pred=y_pred.astype(int)"
   ]
  },
  {
   "cell_type": "code",
   "execution_count": 54,
   "metadata": {},
   "outputs": [
    {
     "data": {
      "text/plain": [
       "array([0], dtype=int64)"
      ]
     },
     "execution_count": 54,
     "metadata": {},
     "output_type": "execute_result"
    }
   ],
   "source": [
    "y_test[8]"
   ]
  },
  {
   "cell_type": "code",
   "execution_count": 55,
   "metadata": {},
   "outputs": [
    {
     "data": {
      "text/plain": [
       "array([0])"
      ]
     },
     "execution_count": 55,
     "metadata": {},
     "output_type": "execute_result"
    }
   ],
   "source": [
    "y_pred[1]"
   ]
  },
  {
   "cell_type": "code",
   "execution_count": 56,
   "metadata": {},
   "outputs": [],
   "source": [
    "from keras.models import load_model\n",
    "model = load_model(\"finalprojecttest.h5\")"
   ]
  },
  {
   "cell_type": "code",
   "execution_count": 57,
   "metadata": {},
   "outputs": [],
   "source": [
    "from sklearn.metrics import confusion_matrix"
   ]
  },
  {
   "cell_type": "code",
   "execution_count": 58,
   "metadata": {},
   "outputs": [],
   "source": [
    "matrix = confusion_matrix(y_test, y_pred)"
   ]
  },
  {
   "cell_type": "code",
   "execution_count": 59,
   "metadata": {},
   "outputs": [
    {
     "data": {
      "text/plain": [
       "array([[    0, 10204],\n",
       "       [ 9626,     0]], dtype=int64)"
      ]
     },
     "execution_count": 59,
     "metadata": {},
     "output_type": "execute_result"
    }
   ],
   "source": [
    "matrix"
   ]
  },
  {
   "cell_type": "code",
   "execution_count": 61,
   "metadata": {},
   "outputs": [
    {
     "data": {
      "text/plain": [
       "0"
      ]
     },
     "execution_count": 61,
     "metadata": {},
     "output_type": "execute_result"
    }
   ],
   "source": [
    "pred=model.predict(np.array([[22,70,120,80,150]]))\n",
    "if(pred > 0.5):\n",
    "    pred =int(1)\n",
    "else:\n",
    "    pred =int(0)\n",
    "pred    "
   ]
  },
  {
   "cell_type": "code",
   "execution_count": null,
   "metadata": {},
   "outputs": [],
   "source": [
    "y_test"
   ]
  },
  {
   "cell_type": "code",
   "execution_count": null,
   "metadata": {},
   "outputs": [],
   "source": [
    "y_pred\n"
   ]
  },
  {
   "cell_type": "code",
   "execution_count": null,
   "metadata": {},
   "outputs": [],
   "source": [
    "x_test[0]"
   ]
  },
  {
   "cell_type": "code",
   "execution_count": null,
   "metadata": {},
   "outputs": [],
   "source": []
  }
 ],
 "metadata": {
  "kernelspec": {
   "display_name": "Python 3",
   "language": "python",
   "name": "python3"
  },
  "language_info": {
   "codemirror_mode": {
    "name": "ipython",
    "version": 3
   },
   "file_extension": ".py",
   "mimetype": "text/x-python",
   "name": "python",
   "nbconvert_exporter": "python",
   "pygments_lexer": "ipython3",
   "version": "3.7.3"
  }
 },
 "nbformat": 4,
 "nbformat_minor": 2
}
